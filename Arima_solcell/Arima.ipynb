{
 "cells": [
  {
   "cell_type": "code",
   "execution_count": 2,
   "id": "initial_id",
   "metadata": {
    "collapsed": true,
    "ExecuteTime": {
     "end_time": "2024-04-16T06:17:03.692046900Z",
     "start_time": "2024-04-16T06:17:00.249715200Z"
    }
   },
   "outputs": [],
   "source": [
    "# Importing necessary libraries\n",
    "import numpy as np  # NumPy library for numerical operations\n",
    "import pandas as pd  # Pandas library for data manipulation and analysis\n",
    "from statsmodels.tsa.stattools import adfuller  # Function for Augmented Dickey-Fuller test\n",
    "import matplotlib.pyplot as plt  # Matplotlib's pyplot for plotting graphs\n"
   ]
  },
  {
   "cell_type": "code",
   "execution_count": 3,
   "outputs": [
    {
     "data": {
      "text/plain": "           PlantKey      Ratio  SunRad  Temperature\nValueTime                                          \n2023-01-01  FBO0023  96.956513   180.0    -0.925000\n2023-01-02  FBO0023   0.000000     0.0     2.625000\n2023-01-03  FBO0023  87.450395   650.0    -1.441667\n2023-01-04  FBO0023   0.000000     0.0    -3.600000\n2023-01-05  FBO0023   0.000000     0.0    -2.979167\n...             ...        ...     ...          ...\n2023-12-27  SGA0001   0.434946   720.0    -2.191667\n2023-12-28  SGA0001  13.637467    40.0     0.941667\n2023-12-29  SGA0001  12.914114    40.0     4.262500\n2023-12-30  SGA0001  68.877529    20.0     1.937500\n2023-12-31  SGA0001   0.000000     0.0    -0.162500\n\n[7963 rows x 4 columns]",
      "text/html": "<div>\n<style scoped>\n    .dataframe tbody tr th:only-of-type {\n        vertical-align: middle;\n    }\n\n    .dataframe tbody tr th {\n        vertical-align: top;\n    }\n\n    .dataframe thead th {\n        text-align: right;\n    }\n</style>\n<table border=\"1\" class=\"dataframe\">\n  <thead>\n    <tr style=\"text-align: right;\">\n      <th></th>\n      <th>PlantKey</th>\n      <th>Ratio</th>\n      <th>SunRad</th>\n      <th>Temperature</th>\n    </tr>\n    <tr>\n      <th>ValueTime</th>\n      <th></th>\n      <th></th>\n      <th></th>\n      <th></th>\n    </tr>\n  </thead>\n  <tbody>\n    <tr>\n      <th>2023-01-01</th>\n      <td>FBO0023</td>\n      <td>96.956513</td>\n      <td>180.0</td>\n      <td>-0.925000</td>\n    </tr>\n    <tr>\n      <th>2023-01-02</th>\n      <td>FBO0023</td>\n      <td>0.000000</td>\n      <td>0.0</td>\n      <td>2.625000</td>\n    </tr>\n    <tr>\n      <th>2023-01-03</th>\n      <td>FBO0023</td>\n      <td>87.450395</td>\n      <td>650.0</td>\n      <td>-1.441667</td>\n    </tr>\n    <tr>\n      <th>2023-01-04</th>\n      <td>FBO0023</td>\n      <td>0.000000</td>\n      <td>0.0</td>\n      <td>-3.600000</td>\n    </tr>\n    <tr>\n      <th>2023-01-05</th>\n      <td>FBO0023</td>\n      <td>0.000000</td>\n      <td>0.0</td>\n      <td>-2.979167</td>\n    </tr>\n    <tr>\n      <th>...</th>\n      <td>...</td>\n      <td>...</td>\n      <td>...</td>\n      <td>...</td>\n    </tr>\n    <tr>\n      <th>2023-12-27</th>\n      <td>SGA0001</td>\n      <td>0.434946</td>\n      <td>720.0</td>\n      <td>-2.191667</td>\n    </tr>\n    <tr>\n      <th>2023-12-28</th>\n      <td>SGA0001</td>\n      <td>13.637467</td>\n      <td>40.0</td>\n      <td>0.941667</td>\n    </tr>\n    <tr>\n      <th>2023-12-29</th>\n      <td>SGA0001</td>\n      <td>12.914114</td>\n      <td>40.0</td>\n      <td>4.262500</td>\n    </tr>\n    <tr>\n      <th>2023-12-30</th>\n      <td>SGA0001</td>\n      <td>68.877529</td>\n      <td>20.0</td>\n      <td>1.937500</td>\n    </tr>\n    <tr>\n      <th>2023-12-31</th>\n      <td>SGA0001</td>\n      <td>0.000000</td>\n      <td>0.0</td>\n      <td>-0.162500</td>\n    </tr>\n  </tbody>\n</table>\n<p>7963 rows × 4 columns</p>\n</div>"
     },
     "execution_count": 3,
     "metadata": {},
     "output_type": "execute_result"
    }
   ],
   "source": [
    "# Reading and initial processing of data\n",
    "columns_to_load = ['PlantKey', 'Temperature', 'SunRad', 'Ratio', 'ValueTime']\n",
    "\n",
    "# Read the Excel file with specified columns\n",
    "data = pd.read_excel(\"data/PrelData ExJobb.xlsx\", usecols=columns_to_load, index_col= \"ValueTime\",parse_dates=True)\n",
    "\n",
    "#data = pd.read_csv(\"data/PrelData ExJobb(Blad1).csv\", usecols=columns_to_load, index_col= \"ValueTime\",parse_dates=True)\n",
    "#index_col='ValueTime'\n",
    "data.dtypes\n",
    "\n",
    "\n",
    "#Plantkey temp sunrad ratio ValueTime\n",
    "\n",
    "\n",
    "pd.set_option('display.max_colwidth', None)\n",
    "data # Displaying the first few rows of the dataset\n"
   ],
   "metadata": {
    "collapsed": false,
    "ExecuteTime": {
     "end_time": "2024-04-16T06:17:06.075375100Z",
     "start_time": "2024-04-16T06:17:03.697269600Z"
    }
   },
   "id": "7cd9e30c781671df"
  },
  {
   "cell_type": "code",
   "execution_count": 4,
   "outputs": [
    {
     "data": {
      "text/plain": "PlantKey        object\nRatio          float64\nSunRad         float64\nTemperature    float64\ndtype: object"
     },
     "execution_count": 4,
     "metadata": {},
     "output_type": "execute_result"
    }
   ],
   "source": [
    "data.dtypes\n"
   ],
   "metadata": {
    "collapsed": false,
    "ExecuteTime": {
     "end_time": "2024-04-16T06:17:06.082771300Z",
     "start_time": "2024-04-16T06:17:06.072833900Z"
    }
   },
   "id": "f8ca83c18ac0808d"
  },
  {
   "cell_type": "code",
   "execution_count": 4,
   "outputs": [],
   "source": [],
   "metadata": {
    "collapsed": false,
    "ExecuteTime": {
     "end_time": "2024-04-16T06:17:06.086309Z",
     "start_time": "2024-04-16T06:17:06.081767200Z"
    }
   },
   "id": "a836c2e6b20f0b1a"
  },
  {
   "cell_type": "code",
   "execution_count": 4,
   "outputs": [],
   "source": [],
   "metadata": {
    "collapsed": false,
    "ExecuteTime": {
     "end_time": "2024-04-16T06:17:06.100481400Z",
     "start_time": "2024-04-16T06:17:06.088761600Z"
    }
   },
   "id": "667ae1570a5a4580"
  },
  {
   "cell_type": "code",
   "execution_count": 5,
   "outputs": [
    {
     "data": {
      "text/plain": "PlantKey        object\nRatio          float64\nSunRad         float64\nTemperature    float64\ndtype: object"
     },
     "execution_count": 5,
     "metadata": {},
     "output_type": "execute_result"
    }
   ],
   "source": [
    "data.dtypes\n"
   ],
   "metadata": {
    "collapsed": false,
    "ExecuteTime": {
     "end_time": "2024-04-16T06:17:06.102330Z",
     "start_time": "2024-04-16T06:17:06.096938900Z"
    }
   },
   "id": "d91c8a9dfddfc161"
  },
  {
   "cell_type": "code",
   "execution_count": 6,
   "outputs": [
    {
     "data": {
      "text/plain": "           PlantKey      Ratio  SunRad  Temperature\nValueTime                                          \n2023-01-01  FBO0023  96.956513   180.0    -0.925000\n2023-01-02  FBO0023   0.000000     0.0     2.625000\n2023-01-03  FBO0023  87.450395   650.0    -1.441667\n2023-01-04  FBO0023   0.000000     0.0    -3.600000\n2023-01-05  FBO0023   0.000000     0.0    -2.979167\n...             ...        ...     ...          ...\n2023-12-27  SGA0001   0.434946   720.0    -2.191667\n2023-12-28  SGA0001  13.637467    40.0     0.941667\n2023-12-29  SGA0001  12.914114    40.0     4.262500\n2023-12-30  SGA0001  68.877529    20.0     1.937500\n2023-12-31  SGA0001   0.000000     0.0    -0.162500\n\n[7963 rows x 4 columns]",
      "text/html": "<div>\n<style scoped>\n    .dataframe tbody tr th:only-of-type {\n        vertical-align: middle;\n    }\n\n    .dataframe tbody tr th {\n        vertical-align: top;\n    }\n\n    .dataframe thead th {\n        text-align: right;\n    }\n</style>\n<table border=\"1\" class=\"dataframe\">\n  <thead>\n    <tr style=\"text-align: right;\">\n      <th></th>\n      <th>PlantKey</th>\n      <th>Ratio</th>\n      <th>SunRad</th>\n      <th>Temperature</th>\n    </tr>\n    <tr>\n      <th>ValueTime</th>\n      <th></th>\n      <th></th>\n      <th></th>\n      <th></th>\n    </tr>\n  </thead>\n  <tbody>\n    <tr>\n      <th>2023-01-01</th>\n      <td>FBO0023</td>\n      <td>96.956513</td>\n      <td>180.0</td>\n      <td>-0.925000</td>\n    </tr>\n    <tr>\n      <th>2023-01-02</th>\n      <td>FBO0023</td>\n      <td>0.000000</td>\n      <td>0.0</td>\n      <td>2.625000</td>\n    </tr>\n    <tr>\n      <th>2023-01-03</th>\n      <td>FBO0023</td>\n      <td>87.450395</td>\n      <td>650.0</td>\n      <td>-1.441667</td>\n    </tr>\n    <tr>\n      <th>2023-01-04</th>\n      <td>FBO0023</td>\n      <td>0.000000</td>\n      <td>0.0</td>\n      <td>-3.600000</td>\n    </tr>\n    <tr>\n      <th>2023-01-05</th>\n      <td>FBO0023</td>\n      <td>0.000000</td>\n      <td>0.0</td>\n      <td>-2.979167</td>\n    </tr>\n    <tr>\n      <th>...</th>\n      <td>...</td>\n      <td>...</td>\n      <td>...</td>\n      <td>...</td>\n    </tr>\n    <tr>\n      <th>2023-12-27</th>\n      <td>SGA0001</td>\n      <td>0.434946</td>\n      <td>720.0</td>\n      <td>-2.191667</td>\n    </tr>\n    <tr>\n      <th>2023-12-28</th>\n      <td>SGA0001</td>\n      <td>13.637467</td>\n      <td>40.0</td>\n      <td>0.941667</td>\n    </tr>\n    <tr>\n      <th>2023-12-29</th>\n      <td>SGA0001</td>\n      <td>12.914114</td>\n      <td>40.0</td>\n      <td>4.262500</td>\n    </tr>\n    <tr>\n      <th>2023-12-30</th>\n      <td>SGA0001</td>\n      <td>68.877529</td>\n      <td>20.0</td>\n      <td>1.937500</td>\n    </tr>\n    <tr>\n      <th>2023-12-31</th>\n      <td>SGA0001</td>\n      <td>0.000000</td>\n      <td>0.0</td>\n      <td>-0.162500</td>\n    </tr>\n  </tbody>\n</table>\n<p>7963 rows × 4 columns</p>\n</div>"
     },
     "execution_count": 6,
     "metadata": {},
     "output_type": "execute_result"
    }
   ],
   "source": [
    "data\n"
   ],
   "metadata": {
    "collapsed": false,
    "ExecuteTime": {
     "end_time": "2024-04-16T06:17:06.180869300Z",
     "start_time": "2024-04-16T06:17:06.102330Z"
    }
   },
   "id": "9a442cf2ae013ee9"
  },
  {
   "cell_type": "code",
   "execution_count": 7,
   "outputs": [
    {
     "data": {
      "text/plain": "             Ratio       SunRad  Temperature\ncount  7451.000000  7451.000000  7451.000000\nmean     72.490525  2674.612804    11.364709\nstd      35.778067  2386.141036     9.799562\nmin       0.000000     0.000000   -13.329167\n25%      53.422054   450.000000     2.847917\n50%      80.164578  2000.000000    10.708333\n75%      92.982321  4610.000000    19.852083\nmax     199.873505  8880.000000    36.210526",
      "text/html": "<div>\n<style scoped>\n    .dataframe tbody tr th:only-of-type {\n        vertical-align: middle;\n    }\n\n    .dataframe tbody tr th {\n        vertical-align: top;\n    }\n\n    .dataframe thead th {\n        text-align: right;\n    }\n</style>\n<table border=\"1\" class=\"dataframe\">\n  <thead>\n    <tr style=\"text-align: right;\">\n      <th></th>\n      <th>Ratio</th>\n      <th>SunRad</th>\n      <th>Temperature</th>\n    </tr>\n  </thead>\n  <tbody>\n    <tr>\n      <th>count</th>\n      <td>7451.000000</td>\n      <td>7451.000000</td>\n      <td>7451.000000</td>\n    </tr>\n    <tr>\n      <th>mean</th>\n      <td>72.490525</td>\n      <td>2674.612804</td>\n      <td>11.364709</td>\n    </tr>\n    <tr>\n      <th>std</th>\n      <td>35.778067</td>\n      <td>2386.141036</td>\n      <td>9.799562</td>\n    </tr>\n    <tr>\n      <th>min</th>\n      <td>0.000000</td>\n      <td>0.000000</td>\n      <td>-13.329167</td>\n    </tr>\n    <tr>\n      <th>25%</th>\n      <td>53.422054</td>\n      <td>450.000000</td>\n      <td>2.847917</td>\n    </tr>\n    <tr>\n      <th>50%</th>\n      <td>80.164578</td>\n      <td>2000.000000</td>\n      <td>10.708333</td>\n    </tr>\n    <tr>\n      <th>75%</th>\n      <td>92.982321</td>\n      <td>4610.000000</td>\n      <td>19.852083</td>\n    </tr>\n    <tr>\n      <th>max</th>\n      <td>199.873505</td>\n      <td>8880.000000</td>\n      <td>36.210526</td>\n    </tr>\n  </tbody>\n</table>\n</div>"
     },
     "execution_count": 7,
     "metadata": {},
     "output_type": "execute_result"
    }
   ],
   "source": [
    "def remove_outliers(df, column):\n",
    "    Q1 = df[column].quantile(0.25)\n",
    "    Q3 = df[column].quantile(0.75)\n",
    "    IQR = Q3 - Q1\n",
    "    lower_bound = Q1 - 1.5 * IQR\n",
    "    upper_bound = Q3 + 1.5 * IQR\n",
    "\n",
    "    # Filter out outliers\n",
    "    filtered_df = df[(df[column] >= lower_bound) & (df[column] <= upper_bound)]\n",
    "    return filtered_df\n",
    "\n",
    "# Apply the function to your data\n",
    "#cleaned_data = remove_outliers(data, 'Ratio')\n",
    "\n",
    "\n",
    "data.describe()  # Describing the statistical aspects of data\n",
    "\n",
    "\n",
    "\n",
    "def find_outliers_iqr(data, column):\n",
    "    Q1 = data[column].quantile(0.25)\n",
    "    Q3 = data[column].quantile(0.75)\n",
    "    IQR = Q3 - Q1\n",
    "    lower_bound = Q1 - 1.5 * IQR\n",
    "    upper_bound = Q3 + 1.5 * IQR\n",
    "\n",
    "    outliers = data[(data[column] < lower_bound) | (data[column] > upper_bound)]\n",
    "    return outliers\n",
    "\n",
    "# Apply the function to your data column\n",
    "#outliers = find_outliers_iqr(data, 'Ratio')\n",
    "#print(f\"Number of outliers detected: {len(outliers)}\")\n",
    "\n",
    "\n",
    "\n",
    "def remove_negative_values(data, column):\n",
    "   \n",
    "    filtered_data = data[data[column] >= 0]\n",
    "    return filtered_data\n",
    "\n",
    "\n",
    "def remove_Positive_values(data, column):\n",
    "    filtered_data = data[data[column] < 200]\n",
    "    return filtered_data\n",
    "data=remove_negative_values(data,\"Ratio\")\n",
    "data=remove_Positive_values(data,\"Ratio\")\n",
    "\n",
    "\n",
    "data.describe()\n",
    "#cleaned_data_final.describe()\n"
   ],
   "metadata": {
    "collapsed": false,
    "ExecuteTime": {
     "end_time": "2024-04-16T06:17:06.268830700Z",
     "start_time": "2024-04-16T06:17:06.122950600Z"
    }
   },
   "id": "e5826936105b3deb"
  },
  {
   "cell_type": "code",
   "execution_count": 11,
   "outputs": [
    {
     "name": "stdout",
     "output_type": "stream",
     "text": [
      "Datasets for FBO0023 saved: FBO0023_train.csv and FBO0023_test.csv\n",
      "Datasets for FSK0003 saved: FSK0003_train.csv and FSK0003_test.csv\n",
      "Datasets for FSK0005 saved: FSK0005_train.csv and FSK0005_test.csv\n",
      "Datasets for FSK0006 saved: FSK0006_train.csv and FSK0006_test.csv\n",
      "Datasets for FSK0007 saved: FSK0007_train.csv and FSK0007_test.csv\n",
      "Datasets for FSK0008 saved: FSK0008_train.csv and FSK0008_test.csv\n",
      "Datasets for MIC0001 saved: MIC0001_train.csv and MIC0001_test.csv\n",
      "Datasets for SBO0001 saved: SBO0001_train.csv and SBO0001_test.csv\n",
      "Datasets for SBO0002 saved: SBO0002_train.csv and SBO0002_test.csv\n",
      "Datasets for SBO0005 saved: SBO0005_train.csv and SBO0005_test.csv\n",
      "Datasets for SBO0007 saved: SBO0007_train.csv and SBO0007_test.csv\n",
      "Datasets for SBO0009 saved: SBO0009_train.csv and SBO0009_test.csv\n",
      "Datasets for SBO0010 saved: SBO0010_train.csv and SBO0010_test.csv\n",
      "Datasets for SBO0011 saved: SBO0011_train.csv and SBO0011_test.csv\n",
      "Datasets for SBO0012 saved: SBO0012_train.csv and SBO0012_test.csv\n",
      "Datasets for SBO0013 saved: SBO0013_train.csv and SBO0013_test.csv\n",
      "Datasets for SBO0014 saved: SBO0014_train.csv and SBO0014_test.csv\n",
      "Datasets for SBO0015 saved: SBO0015_train.csv and SBO0015_test.csv\n",
      "Datasets for SBO0016 saved: SBO0016_train.csv and SBO0016_test.csv\n",
      "Datasets for SBO0017 saved: SBO0017_train.csv and SBO0017_test.csv\n",
      "Datasets for SBO0028 saved: SBO0028_train.csv and SBO0028_test.csv\n",
      "Datasets for SBO0029 saved: SBO0029_train.csv and SBO0029_test.csv\n",
      "Datasets for SBO0030 saved: SBO0030_train.csv and SBO0030_test.csv\n",
      "Datasets for SGA0001 saved: SGA0001_train.csv and SGA0001_test.csv\n"
     ]
    },
    {
     "data": {
      "text/plain": "PlantKey        object\nRatio          float64\nSunRad         float64\nTemperature    float64\ndtype: object"
     },
     "execution_count": 11,
     "metadata": {},
     "output_type": "execute_result"
    }
   ],
   "source": [
    "# Data splitting\n",
    "plantkeys = [\n",
    "    'FBO0023', 'FSK0003', 'FSK0005', 'FSK0006', 'FSK0007', 'FSK0008', 'MIC0001',\n",
    "    'SBO0001', 'SBO0002', 'SBO0005', 'SBO0007', 'SBO0009', 'SBO0010', 'SBO0011',\n",
    "    'SBO0012', 'SBO0013', 'SBO0014', 'SBO0015', 'SBO0016', 'SBO0017', 'SBO0028',\n",
    "    'SBO0029', 'SBO0030', 'SGA0001'\n",
    "]\n",
    "\n",
    "\n",
    "\n",
    "datasets = {}\n",
    "count= 1\n",
    "\n",
    "# Loop over each unique PlantKey in the DataFrame\n",
    "for plantkey in data['PlantKey'].unique():\n",
    "    \n",
    "    # Filter data for the current PlantKey\n",
    "    plant_data = data[data['PlantKey'] == plantkey]\n",
    "    train_size = int(len(plant_data) * 0.6)  # Determining the size of the training set (70% of the data)\n",
    "    train, test = plant_data.iloc[:train_size], plant_data.iloc[train_size:]  # Splitting the dataset into training and testing sets\n",
    "    datasets[plantkey]= {'train': train, 'test': test}\n",
    "    \n",
    "#for plantkey in cleaned_data_final:\n",
    "\n",
    "\n",
    "\n",
    "\n",
    "\n",
    "\n",
    "    # Retrieve the training and testing set for the current plantkey\n",
    "    train_set = datasets[plantkey]['train']\n",
    "    test_set = datasets[plantkey]['test']\n",
    "    #train_set[\"ValueTime\"] = pd.to_datetime(train_set[\"ValueTime\"])\n",
    "    #train_set.index.freq =train_set.index.freq = \"D\"\n",
    "    #train_set.index.freq\n",
    "\n",
    "\n",
    "    #test_set[\"ValueTime\"] = pd.to_datetime(train_set[\"ValueTime\"])\n",
    "   # test_set.index.freq =train_set.index.freq = \"D\"\n",
    "    #test_set.index.freq\n",
    "\n",
    "\n",
    "\n",
    "# Convert 'ValueTime' to datetime and set frequency, if it's part of your dataset\n",
    "   \n",
    "for plantkey in plantkeys:\n",
    "    \n",
    "    # Save the datasets to CSV files\n",
    "    train_set.to_csv(f'{plantkey}_train.csv')\n",
    "    test_set.to_csv(f'{plantkey}_test.csv')\n",
    "\n",
    "    print(f'Datasets for {plantkey} saved: {plantkey}_train.csv and {plantkey}_test.csv')\n",
    "data.dtypes\n"
   ],
   "metadata": {
    "collapsed": false,
    "ExecuteTime": {
     "start_time": "2024-04-16T06:18:29.285771600Z"
    }
   },
   "id": "42d136b9e70df8fc"
  },
  {
   "cell_type": "code",
   "execution_count": null,
   "outputs": [],
   "source": [
    "\n",
    "for index, row in data.iterrows():\n",
    "    train_set.to_csv(f'{plantkey}_train.csv')\n"
   ],
   "metadata": {
    "collapsed": false
   },
   "id": "b2373b575889eb6f"
  },
  {
   "cell_type": "code",
   "execution_count": null,
   "outputs": [],
   "source": [
    "# For plantkey FBO0023\n",
    "train_fbo0023 = pd.read_csv('FBO0023_train.csv', index_col=\"ValueTime\", parse_dates=True).asfreq('D')\n",
    "test_fbo0023 = pd.read_csv('FBO0023_test.csv', index_col=\"ValueTime\", parse_dates=True).asfreq('D')\n",
    "print(train_fbo0023)\n",
    "\n",
    "train_fbo0023.fillna(0, inplace=True)\n",
    "test_fbo0023.fillna(0, inplace=True)\n",
    "\n",
    "\n",
    "# For plantkey FSK0003\n",
    "train_fsk0003 = pd.read_csv('FSK0003_train.csv', index_col=\"ValueTime\", parse_dates=True).asfreq('D')\n",
    "test_fsk0003 = pd.read_csv('FSK0003_test.csv', index_col=\"ValueTime\", parse_dates=True).asfreq('D')\n",
    "\n",
    "# For plantkey FSK0005\n",
    "train_fsk0005 = pd.read_csv('FSK0005_train.csv', index_col=\"ValueTime\", parse_dates=True).asfreq('D')\n",
    "test_fsk0005 = pd.read_csv('FSK0005_test.csv', index_col=\"ValueTime\", parse_dates=True).asfreq('D')\n",
    "\n",
    "# For plantkey FSK0006\n",
    "train_fsk0006 = pd.read_csv('FSK0006_train.csv', index_col=\"ValueTime\", parse_dates=True).asfreq('D')\n",
    "test_fsk0006 = pd.read_csv('FSK0006_test.csv', index_col=\"ValueTime\", parse_dates=True).asfreq('D')\n",
    "\n",
    "# For plantkey FSK0007\n",
    "train_fsk0007 = pd.read_csv('FSK0007_train.csv', index_col=\"ValueTime\", parse_dates=True).asfreq('D')\n",
    "test_fsk0007 = pd.read_csv('FSK0007_test.csv', index_col=\"ValueTime\", parse_dates=True).asfreq('D')\n",
    "\n",
    "# For plantkey FSK0008\n",
    "train_fsk0008 = pd.read_csv('FSK0008_train.csv', index_col=\"ValueTime\", parse_dates=True).asfreq('D')\n",
    "test_fsk0008 = pd.read_csv('FSK0008_test.csv', index_col=\"ValueTime\", parse_dates=True).asfreq('D')\n",
    "\n",
    "# For plantkey MIC0001\n",
    "train_mic0001 = pd.read_csv('MIC0001_train.csv', index_col=\"ValueTime\", parse_dates=True).asfreq('D')\n",
    "test_mic0001 = pd.read_csv('MIC0001_test.csv', index_col=\"ValueTime\", parse_dates=True).asfreq('D')\n",
    "\n",
    "# For plantkey SBO0001\n",
    "train_sbo0001 = pd.read_csv('SBO0001_train.csv', index_col=\"ValueTime\", parse_dates=True).asfreq('D')\n",
    "test_sbo0001 = pd.read_csv('SBO0001_test.csv', index_col=\"ValueTime\", parse_dates=True).asfreq('D')\n",
    "\n",
    "\n",
    "# For plantkey SBO0002\n",
    "train_sbo0002 = pd.read_csv('SBO0002_train.csv', index_col=\"ValueTime\", parse_dates=True).asfreq('D')\n",
    "test_sbo0002 = pd.read_csv('SBO0002_test.csv', index_col=\"ValueTime\", parse_dates=True).asfreq('D')\n",
    "\n",
    "# For plantkey SBO0005\n",
    "train_sbo0005 = pd.read_csv('SBO0005_train.csv', index_col=\"ValueTime\", parse_dates=True).asfreq('D')\n",
    "test_sbo0005 = pd.read_csv('SBO0005_test.csv', index_col=\"ValueTime\", parse_dates=True).asfreq('D')\n",
    "\n",
    "# For plantkey SBO0007\n",
    "train_sbo0007 = pd.read_csv('SBO0007_train.csv', index_col=\"ValueTime\", parse_dates=True).asfreq('D')\n",
    "test_sbo0007 = pd.read_csv('SBO0007_test.csv', index_col=\"ValueTime\", parse_dates=True).asfreq('D')\n",
    "\n",
    "# For plantkey SBO0009\n",
    "train_sbo0009 = pd.read_csv('SBO0009_train.csv', index_col=\"ValueTime\", parse_dates=True).asfreq('D')\n",
    "test_sbo0009 = pd.read_csv('SBO0009_test.csv', index_col=\"ValueTime\", parse_dates=True).asfreq('D')\n",
    "\n",
    "# For plantkey SBO0010\n",
    "train_sbo0010 = pd.read_csv('SBO0010_train.csv', index_col=\"ValueTime\", parse_dates=True).asfreq('D')\n",
    "test_sbo0010 = pd.read_csv('SBO0010_test.csv', index_col=\"ValueTime\", parse_dates=True).asfreq('D')\n",
    "\n",
    "# For plantkey SBO0011\n",
    "train_sbo0011 = pd.read_csv('SBO0011_train.csv', index_col=\"ValueTime\", parse_dates=True).asfreq('D')\n",
    "test_sbo0011 = pd.read_csv('SBO0011_test.csv', index_col=\"ValueTime\", parse_dates=True).asfreq('D')\n",
    "\n",
    "# For plantkey SBO0012\n",
    "train_sbo0012 = pd.read_csv('SBO0012_train.csv', index_col=\"ValueTime\", parse_dates=True).asfreq('D')\n",
    "test_sbo0012 = pd.read_csv('SBO0012_test.csv', index_col=\"ValueTime\", parse_dates=True).asfreq('D')\n",
    "\n",
    "# For plantkey SBO0013\n",
    "train_sbo0013 = pd.read_csv('SBO0013_train.csv', index_col=\"ValueTime\", parse_dates=True).asfreq('D')\n",
    "test_sbo0013 = pd.read_csv('SBO0013_test.csv', index_col=\"ValueTime\", parse_dates=True).asfreq('D')\n",
    "\n",
    "# For plantkey SBO0014\n",
    "train_sbo0014 = pd.read_csv('SBO0014_train.csv', index_col=\"ValueTime\", parse_dates=True).asfreq('D')\n",
    "test_sbo0014 = pd.read_csv('SBO0014_test.csv', index_col=\"ValueTime\", parse_dates=True).asfreq('D')\n",
    "\n",
    "# For plantkey SBO0015\n",
    "train_sbo0015 = pd.read_csv('SBO0015_train.csv', index_col=\"ValueTime\", parse_dates=True).asfreq('D')\n",
    "test_sbo0015 = pd.read_csv('SBO0015_test.csv', index_col=\"ValueTime\", parse_dates=True).asfreq('D')\n",
    "\n",
    "# For plantkey SBO0016\n",
    "train_sbo0016 = pd.read_csv('SBO0016_train.csv', index_col=\"ValueTime\", parse_dates=True).asfreq('D')\n",
    "test_sbo0016 = pd.read_csv('SBO0016_test.csv', index_col=\"ValueTime\", parse_dates=True).asfreq('D')\n",
    "\n",
    "# For plantkey SBO0017\n",
    "train_sbo0017 = pd.read_csv('SBO0017_train.csv', index_col=\"ValueTime\", parse_dates=True).asfreq('D')\n",
    "test_sbo0017 = pd.read_csv('SBO0017_test.csv', index_col=\"ValueTime\", parse_dates=True).asfreq('D')\n",
    "\n",
    "# For plantkey SBO0028\n",
    "train_sbo0028 = pd.read_csv('SBO0028_train.csv', index_col=\"ValueTime\", parse_dates=True).asfreq('D')\n",
    "test_sbo0028 = pd.read_csv('SBO0028_test.csv', index_col=\"ValueTime\", parse_dates=True).asfreq('D')\n",
    "\n",
    "# For plantkey SBO0029\n",
    "train_sbo0029 = pd.read_csv('SBO0029_train.csv', index_col=\"ValueTime\", parse_dates=True).asfreq('D')\n",
    "test_sbo0029 = pd.read_csv('SBO0029_test.csv', index_col=\"ValueTime\", parse_dates=True).asfreq('D')\n",
    "\n",
    "# For plantkey SBO0030\n",
    "train_sbo0030 = pd.read_csv('SBO0030_train.csv', index_col=\"ValueTime\", parse_dates=True).asfreq('D')\n",
    "test_sbo0030 = pd.read_csv('SBO0030_test.csv', index_col=\"ValueTime\", parse_dates=True).asfreq('D')\n",
    "\n",
    "# For plantkey SGA0001\n",
    "train_sga0001 = pd.read_csv('SGA0001_train.csv', index_col=\"ValueTime\", parse_dates=True).asfreq('D')\n",
    "test_sga0001 = pd.read_csv('SGA0001_test.csv', index_col=\"ValueTime\", parse_dates=True).asfreq('D')\n",
    "\n"
   ],
   "metadata": {
    "collapsed": false,
    "ExecuteTime": {
     "start_time": "2024-04-16T06:17:06.595670400Z"
    }
   },
   "id": "b52e4a19e75691cb"
  },
  {
   "cell_type": "code",
   "execution_count": null,
   "outputs": [],
   "source": [
    "def convertDate(Name):\n",
    "    Name[\"ValueTime\"] = pd.to_datetime(Name[\"ValueTime\"])\n",
    "    Name.index.freq =Name.index.freq = \"D\"\n",
    "    Name.index.freq\n",
    "\n",
    "arr = [train_fbo0023,test_fbo0023]\n",
    "#for x in arr:\n",
    "    #convertDate(x)\n",
    "\n",
    "\n",
    "\n",
    "\n",
    "train_fbo0023.index.freq"
   ],
   "metadata": {
    "collapsed": false,
    "ExecuteTime": {
     "start_time": "2024-04-16T06:17:06.598179800Z"
    }
   },
   "id": "7d0f4bd472f562b2"
  },
  {
   "cell_type": "markdown",
   "source": [],
   "metadata": {
    "collapsed": false
   },
   "id": "7532fa70d4504559"
  },
  {
   "cell_type": "code",
   "execution_count": null,
   "outputs": [],
   "source": [
    "train_fbo0023.index.freq\n",
    "\n",
    "train_fbo0023\n"
   ],
   "metadata": {
    "collapsed": false,
    "ExecuteTime": {
     "start_time": "2024-04-16T06:17:06.602346600Z"
    }
   },
   "id": "7155518c951ce1b7"
  },
  {
   "cell_type": "code",
   "execution_count": null,
   "outputs": [],
   "source": [
    "# Checking stationarity\n",
    "adf_result = adfuller(train_fbo0023[\"Ratio\"])  # Applying Augmented Dickey-Fuller test to check stationarity\n",
    "print(adf_result)"
   ],
   "metadata": {
    "collapsed": false,
    "ExecuteTime": {
     "start_time": "2024-04-16T06:17:06.605932800Z"
    }
   },
   "id": "ee07898f3e8a87fd"
  },
  {
   "cell_type": "code",
   "execution_count": null,
   "outputs": [],
   "source": [],
   "metadata": {
    "collapsed": false,
    "ExecuteTime": {
     "start_time": "2024-04-16T06:17:06.610246300Z"
    }
   },
   "id": "304b290bc971c46b"
  },
  {
   "cell_type": "code",
   "execution_count": null,
   "outputs": [],
   "source": [
    "# Plotting the data\n",
    "plt.figure(figsize=(6, 6))  # Setting the figure size for the plot\n",
    "plt.plot(train_fbo0023[\"Ratio\"], label='Train')  # Plotting the training data\n",
    "plt.plot(test_fbo0023[\"Ratio\"], label='Test')  # Plotting the testing data\n",
    "plt.title('Ratio Over Time')  # Title of the plot\n",
    "plt.xlabel('Date')  # X-axis label\n",
    "plt.ylabel('Ratio')  # Y-axis label\n",
    "plt.legend()  # Adding a legend to the plot\n",
    "plt.show()  # Displaying the plot"
   ],
   "metadata": {
    "collapsed": false,
    "ExecuteTime": {
     "start_time": "2024-04-16T06:17:06.614465600Z"
    }
   },
   "id": "49afcaedaa64c77d"
  },
  {
   "cell_type": "code",
   "execution_count": null,
   "outputs": [],
   "source": [
    "# ARIMA modeling\n",
    "from pmdarima import auto_arima  # Importing the auto_arima function from pmdarima\n",
    "  # Creating a new series 'train1' for ARIMA modeling\n",
    "auto_model = auto_arima(train_fbo0023[\"Ratio\"], seasonal=False, trace=True, error_action=\"ignore\", suppress_warnings=True)  # Fitting the ARIMA model\n",
    "auto_model.summary()  # Displaying the summary of the model"
   ],
   "metadata": {
    "collapsed": false,
    "ExecuteTime": {
     "start_time": "2024-04-16T06:17:06.618100Z"
    }
   },
   "id": "c04fc57d8234d98a"
  },
  {
   "cell_type": "code",
   "execution_count": null,
   "outputs": [],
   "source": [
    "from statsmodels.tsa.arima.model import ARIMA\n",
    "import pandas as pd\n",
    "import matplotlib.pyplot as plt\n",
    "# Further ARIMA modeling and forecasting\n",
    "from statsmodels.tsa.arima.model import ARIMA  # Importing the ARIMA model\n",
    "#data.index.freq = \"1min\"  # Setting the frequency of the data index to 1 minute\n",
    "#data.index = pd.DatetimeIndex(data.index).to_period(\"1min\")  # Converting the data index to DatetimeIndex with 1-minute period\n"
   ],
   "metadata": {
    "collapsed": false,
    "ExecuteTime": {
     "start_time": "2024-04-16T06:17:06.621637500Z"
    }
   },
   "id": "5cf5304e6f9a02fb"
  },
  {
   "cell_type": "code",
   "execution_count": null,
   "outputs": [],
   "source": [
    "#np.asarray(train_fbo0023)\n",
    "\n",
    "train_fbo0023.dtypes"
   ],
   "metadata": {
    "collapsed": false,
    "ExecuteTime": {
     "start_time": "2024-04-16T06:17:06.626199900Z"
    }
   },
   "id": "387977de9cb5edf5"
  },
  {
   "cell_type": "code",
   "execution_count": null,
   "outputs": [],
   "source": [
    "\n",
    "\n",
    "\n",
    "\n",
    "#train_fbo0023.index.freq =data.index.freq = \"D\"\n",
    "train_fbo0023_ratio= train_fbo0023[\"Ratio\"]\n",
    "\n",
    "test_fbo0023_ratio= test_fbo0023[\"Ratio\"]\n",
    "\n",
    "model = ARIMA(train_fbo0023_ratio, order=(4, 0, 1))  # Initializing the ARIMA model with specified order\n",
    "fitted_model = model.fit()  # Fitting the ARIMA model\n",
    "fitted_model.summary()\n",
    "\n"
   ],
   "metadata": {
    "collapsed": false,
    "ExecuteTime": {
     "start_time": "2024-04-16T06:17:06.629979Z"
    }
   },
   "id": "18fe700591914a87"
  },
  {
   "cell_type": "code",
   "execution_count": null,
   "outputs": [],
   "source": [
    "print(test_fbo0023_ratio.index.freq)"
   ],
   "metadata": {
    "collapsed": false,
    "ExecuteTime": {
     "start_time": "2024-04-16T06:17:06.635168900Z"
    }
   },
   "id": "1d085344b38383d3"
  },
  {
   "cell_type": "code",
   "execution_count": null,
   "outputs": [],
   "source": [],
   "metadata": {
    "collapsed": false,
    "ExecuteTime": {
     "start_time": "2024-04-16T06:17:06.639840400Z"
    }
   },
   "id": "e43c5bcc83cad140"
  },
  {
   "cell_type": "code",
   "execution_count": null,
   "outputs": [],
   "source": [
    "forecast = fitted_model.forecast(steps=len(test_fbo0023_ratio))  # Forecasting using the fitted model\n",
    "print(forecast)"
   ],
   "metadata": {
    "collapsed": false,
    "ExecuteTime": {
     "start_time": "2024-04-16T06:17:06.642903600Z"
    }
   },
   "id": "f137b0ffa22b2b6e"
  },
  {
   "cell_type": "code",
   "execution_count": null,
   "outputs": [],
   "source": [
    "train_fbo0023_ratio.dtypes\n"
   ],
   "metadata": {
    "collapsed": false,
    "ExecuteTime": {
     "start_time": "2024-04-16T06:17:06.647709400Z"
    }
   },
   "id": "97e105468f6fd355"
  },
  {
   "cell_type": "code",
   "execution_count": null,
   "outputs": [],
   "source": [
    "import pandas as pd\n",
    "from statsmodels.tsa.arima.model import ARIMA\n",
    "import matplotlib.pyplot as plt\n",
    "# Compare the forecasted values with the actual values\n",
    "train_fbo0023_ratio.dtypes\n",
    "#train_fbo0023_ratio.index = train_fbo0023_ratio.index.to_timestamp()\n",
    "#test_fbo0023_ratio.index = test_fbo0023_ratio.index.to_timestamp()\n",
    "#forecast.index = forecast.index.to_timestamp()\n",
    "plt.figure(figsize=(10, 6))\n",
    "plt.plot( train_fbo0023_ratio.index,train_fbo0023_ratio ,label='Train')\n",
    "plt.plot( test_fbo0023_ratio.index,test_fbo0023_ratio ,label='Test')\n",
    "plt.plot( test_fbo0023_ratio.index,forecast ,label='Forecast')\n",
    "plt.title('Ratio Forecast vs Actual')\n",
    "plt.xlabel('Date')\n",
    "plt.ylabel('Temperature Levels')\n",
    "plt.legend()\n",
    "plt.show()\n",
    "\n",
    "#print(forecast.shape, test.shape)\n",
    "\n",
    "# # Mean Absolute Error (MAE)\n",
    "#MAE = np.mean(abs(forecast - test))\n",
    "#print('Mean Absolute Error (MAE): ' + str(np.round(MAE, 2)))\n",
    "# # Mean Absolute Error (MAE)\n",
    "MAE = np.mean(abs(forecast - test_fbo0023_ratio))\n",
    "print('Mean Absolute Error (MAE): ' + str(np.round(MAE, 2)))"
   ],
   "metadata": {
    "collapsed": false,
    "ExecuteTime": {
     "start_time": "2024-04-16T06:17:06.651007200Z"
    }
   },
   "id": "fc88382694a15906"
  },
  {
   "cell_type": "code",
   "execution_count": null,
   "outputs": [],
   "source": [
    "train_fbo0023\n",
    "\n",
    "test_fbo0023"
   ],
   "metadata": {
    "collapsed": false,
    "ExecuteTime": {
     "start_time": "2024-04-16T06:17:06.654939600Z"
    }
   },
   "id": "45b3caeed41a8a53"
  },
  {
   "cell_type": "code",
   "execution_count": null,
   "outputs": [],
   "source": [
    "train_fbo0023_var = train_fbo0023.drop('PlantKey', axis=1)\n",
    "\n",
    "test_fbo0023_var = test_fbo0023.drop('PlantKey', axis=1)"
   ],
   "metadata": {
    "collapsed": false,
    "ExecuteTime": {
     "start_time": "2024-04-16T06:17:06.657809900Z"
    }
   },
   "id": "811971f93c79ce9c"
  },
  {
   "cell_type": "code",
   "execution_count": null,
   "outputs": [],
   "source": [
    "\n",
    "\n",
    "test_fbo0023_var\n",
    "\n",
    "\n",
    "test_fbo0023_var\n",
    "# Assuming 'train_fbo0023_numeric' contains your data\n",
    "# Calculate the first difference to make data stationary\n",
    "\n",
    "train_fbo0023_var['SunRad_diff'] = train_fbo0023_var['SunRad'].diff()\n",
    "train_fbo0023_var['Temperature_diff'] = train_fbo0023_var['Temperature'].diff()\n",
    "test_fbo0023_var['SunRad_diff'] = test_fbo0023_var['SunRad'].diff()\n",
    "test_fbo0023_var['Temperature_diff'] = test_fbo0023_var['Temperature'].diff()\n",
    "\n",
    "\n",
    "train_fbo0023_var['SunRad'].diff()\n",
    "train_fbo0023_var['Temperature'].diff()\n",
    "test_fbo0023_var['SunRad'].diff()\n",
    "test_fbo0023_var['Temperature'].diff()\n",
    "#train_fbo0023_var['SunRad']= train_fbo0023_var['SunRad'].diff()\n",
    "#train_fbo0023_var['Temperature']=train_fbo0023_var['Temperature'].diff()\n",
    "# Drop the NaN values that come from differencing\n",
    "train_fbo0023_var = train_fbo0023_var.dropna()\n",
    "test_fbo0023_var= train_fbo0023_var.dropna()\n"
   ],
   "metadata": {
    "collapsed": false,
    "ExecuteTime": {
     "start_time": "2024-04-16T06:17:06.660377100Z"
    }
   },
   "id": "dd600f2bd3bbc281"
  },
  {
   "cell_type": "code",
   "execution_count": null,
   "outputs": [],
   "source": [
    "from statsmodels.tsa.stattools import grangercausalitytests\n",
    "gc_results = grangercausalitytests(train_fbo0023_var[['SunRad', 'Temperature']], maxlag=4)\n"
   ],
   "metadata": {
    "collapsed": false,
    "ExecuteTime": {
     "start_time": "2024-04-16T06:17:06.663904500Z"
    }
   },
   "id": "e049e0dbe13971d2"
  },
  {
   "cell_type": "code",
   "execution_count": null,
   "outputs": [],
   "source": [
    "\n"
   ],
   "metadata": {
    "collapsed": false,
    "ExecuteTime": {
     "start_time": "2024-04-16T06:17:06.668014100Z"
    }
   },
   "id": "7ac1eab77e9e5b"
  },
  {
   "cell_type": "code",
   "execution_count": null,
   "outputs": [],
   "source": [],
   "metadata": {
    "collapsed": false,
    "ExecuteTime": {
     "start_time": "2024-04-16T06:17:06.671028Z"
    }
   },
   "id": "5657ce8c1e8c8f45"
  },
  {
   "cell_type": "code",
   "execution_count": null,
   "outputs": [],
   "source": [
    "from statsmodels.tsa.stattools import adfuller\n",
    "\n",
    "# Function to perform the ADF test\n",
    "def adf_test(series, title=''):\n",
    "    result = adfuller(series, autolag='AIC')\n",
    "    print(f'ADF Statistic for {title}: {result[0]}')\n",
    "    print(f'p-value: {result[1]}')\n",
    "    if result[1] <= 0.05:\n",
    "        print(\"Strong evidence against the null hypothesis (Ho), reject the null hypothesis. Data has no unit root and is stationary\")\n",
    "    else:\n",
    "        print(\"Weak evidence against null hypothesis, time series has a unit root, indicating it is non-stationary \")\n",
    "\n",
    "# Apply ADF test on the differenced data\n",
    "adf_test(train_fbo0023_var['SunRad_diff'], 'SunRad_diff')\n",
    "adf_test(train_fbo0023_var['Temperature_diff'], 'Temperature_diff')\n"
   ],
   "metadata": {
    "collapsed": false,
    "ExecuteTime": {
     "start_time": "2024-04-16T06:17:06.674069300Z"
    }
   },
   "id": "9348858fe4544503"
  },
  {
   "cell_type": "code",
   "execution_count": null,
   "outputs": [],
   "source": [
    "print(train_fbo0023_var)"
   ],
   "metadata": {
    "collapsed": false,
    "ExecuteTime": {
     "start_time": "2024-04-16T06:17:06.676925300Z"
    }
   },
   "id": "8f8430638f853332"
  },
  {
   "cell_type": "code",
   "execution_count": null,
   "outputs": [],
   "source": [
    "# Check for stationarity and difference if necessary\n",
    "def check_stationarity(ts):\n",
    "    result = adfuller(ts, autolag='AIC')\n",
    "    if result[1] < 0.05:\n",
    "        print('Series is stationary')\n",
    "    else:\n",
    "        print('Series is not stationary')\n",
    "\n",
    "# Apply to all series\n",
    "#for col in train_fbo0023_var.columns:\n",
    "    #check_stationarity(train_fbo0023[col])\n",
    "\n",
    "print(train_fbo0023_var)\n",
    "\n",
    "#train_fbo0023.dtypes"
   ],
   "metadata": {
    "collapsed": false,
    "ExecuteTime": {
     "start_time": "2024-04-16T06:17:06.679427700Z"
    }
   },
   "id": "dcef9f9979b5c95a"
  },
  {
   "cell_type": "code",
   "execution_count": null,
   "outputs": [],
   "source": [
    "train_fbo0023_var.dtypes\n",
    "\n",
    "#print(train_fbo0023_var['SunRad'].diff())\n",
    "\n",
    "\n",
    "\n",
    "#print(train_fbo0023_var)"
   ],
   "metadata": {
    "collapsed": false,
    "ExecuteTime": {
     "start_time": "2024-04-16T06:17:06.681929600Z"
    }
   },
   "id": "4470fa3631e08a40"
  },
  {
   "cell_type": "code",
   "execution_count": null,
   "outputs": [],
   "source": [],
   "metadata": {
    "collapsed": false,
    "ExecuteTime": {
     "start_time": "2024-04-16T06:17:06.683931200Z"
    }
   },
   "id": "b12a294ac7ae5294"
  },
  {
   "cell_type": "code",
   "execution_count": null,
   "outputs": [],
   "source": [],
   "metadata": {
    "collapsed": false,
    "ExecuteTime": {
     "start_time": "2024-04-16T06:17:06.685933200Z"
    }
   },
   "id": "cc9e9e48c5235cc3"
  },
  {
   "cell_type": "code",
   "execution_count": null,
   "outputs": [],
   "source": [
    "train_fbo0023_var.dtypes\n"
   ],
   "metadata": {
    "collapsed": false,
    "ExecuteTime": {
     "start_time": "2024-04-16T06:17:06.687934400Z"
    }
   },
   "id": "f5ac2cc1afa0fa9d"
  },
  {
   "cell_type": "code",
   "execution_count": null,
   "outputs": [],
   "source": [
    "import pandas as pd\n",
    "import numpy as np\n",
    "from statsmodels.tsa.api import VAR , VARMAX\n",
    "from statsmodels.tsa.stattools import adfuller\n",
    "from matplotlib import pyplot as plt\n",
    "\n",
    "model = VARMAX(train_fbo0023_var, order=(4,0), enforce_stationarity= True)\n",
    "fitted_model = model.fit(disp= False)\n",
    "print(fitted_model.summary())\n",
    "\n",
    "\n",
    "\n",
    "# The 'Ratio' forecast would be in forecast_df['Ratio']"
   ],
   "metadata": {
    "collapsed": false,
    "ExecuteTime": {
     "start_time": "2024-04-16T06:17:06.691437500Z"
    }
   },
   "id": "9cd46fde903cb5f7"
  },
  {
   "cell_type": "code",
   "execution_count": null,
   "outputs": [],
   "source": [
    "n_forecast = len(test_fbo0023_var)  # Ensure this matches the test set size if comparing directly\n",
    "start_forecast = len(train_fbo0023_var)\n",
    "end_forecast = start_forecast + n_forecast - 1\n",
    "\n",
    "predictions = fitted_model.get_prediction(start=start_forecast, end=end_forecast)\n",
    "forecast_mean = predictions.predicted_mean\n",
    "forecast_mean"
   ],
   "metadata": {
    "collapsed": false,
    "ExecuteTime": {
     "start_time": "2024-04-16T06:17:06.695459900Z"
    }
   },
   "id": "39de85de6a156b0c"
  },
  {
   "cell_type": "code",
   "execution_count": null,
   "outputs": [],
   "source": [
    "forecast_mean.columns= [\"Ratio\", \"SunRad\", \"temp\"]\n",
    "forecast_mean"
   ],
   "metadata": {
    "collapsed": false,
    "ExecuteTime": {
     "start_time": "2024-04-16T06:17:06.697462300Z"
    }
   },
   "id": "60ce76529709c2ca"
  },
  {
   "cell_type": "code",
   "execution_count": null,
   "outputs": [],
   "source": [
    "import pandas as pd\n",
    "from statsmodels.tsa.arima.model import ARIMA\n",
    "import matplotlib.pyplot as plt\n",
    "# Compare the forecasted values with the actual values\n",
    "train_fbo0023_ratio.dtypes\n",
    "#train_fbo0023_ratio.index = train_fbo0023_ratio.index.to_timestamp()\n",
    "#test_fbo0023_ratio.index = test_fbo0023_ratio.index.to_timestamp()\n",
    "#forecast.index = forecast.index.to_timestamp()\n",
    "plt.figure(figsize=(10, 6))\n",
    "plt.plot( train_fbo0023_var.index,train_fbo0023_var[\"Ratio\"] ,label='Train')\n",
    "plt.plot( test_fbo0023_var.index,test_fbo0023_var[\"Ratio\"] ,label='Test')\n",
    "plt.plot( test_fbo0023_var.index,forecast_mean[\"Ratio\"] ,label='Forecast')\n",
    "plt.title('Ratio Forecast vs Actual')\n",
    "plt.xlabel('Date')\n",
    "plt.ylabel('Temperature Levels')\n",
    "plt.legend()\n",
    "plt.show()\n",
    "\n",
    "#print(forecast.shape, test.shape)\n",
    "\n",
    "# # Mean Absolute Error (MAE)\n",
    "#MAE = np.mean(abs(forecast - test))\n",
    "#print('Mean Absolute Error (MAE): ' + str(np.round(MAE, 2)))\n",
    "# # Mean Absolute Error (MAE)\n",
    "\n",
    "MAE = np.mean(abs(forecast - test_fbo0023_ratio))\n",
    "print('Mean Absolute Error (MAE): ' + str(np.round(MAE, 2)))"
   ],
   "metadata": {
    "collapsed": false,
    "ExecuteTime": {
     "start_time": "2024-04-16T06:17:06.699964200Z"
    }
   },
   "id": "3727d486cdc55f8a"
  },
  {
   "cell_type": "code",
   "execution_count": null,
   "outputs": [],
   "source": [
    "# Calculate daily absolute errors\n",
    "daily_errors = np.abs(forecast_mean['Ratio'] - test_fbo0023_var['Ratio'])\n",
    "\n",
    "# Optionally, view the daily errors\n",
    "print(daily_errors)\n"
   ],
   "metadata": {
    "collapsed": false,
    "ExecuteTime": {
     "start_time": "2024-04-16T06:17:06.701965800Z"
    }
   },
   "id": "31c2831a4bb80ef0"
  },
  {
   "cell_type": "code",
   "execution_count": null,
   "outputs": [],
   "source": [],
   "metadata": {
    "collapsed": false,
    "ExecuteTime": {
     "start_time": "2024-04-16T06:17:06.703968400Z"
    }
   },
   "id": "e2666becb1a63a71"
  }
 ],
 "metadata": {
  "kernelspec": {
   "display_name": "Python 3",
   "language": "python",
   "name": "python3"
  },
  "language_info": {
   "codemirror_mode": {
    "name": "ipython",
    "version": 2
   },
   "file_extension": ".py",
   "mimetype": "text/x-python",
   "name": "python",
   "nbconvert_exporter": "python",
   "pygments_lexer": "ipython2",
   "version": "2.7.6"
  }
 },
 "nbformat": 4,
 "nbformat_minor": 5
}
